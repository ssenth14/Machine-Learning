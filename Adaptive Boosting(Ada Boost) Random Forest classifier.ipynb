{
 "cells": [
  {
   "cell_type": "code",
   "execution_count": 2,
   "metadata": {},
   "outputs": [],
   "source": [
    "import pandas as pd\n",
    "import numpy as np\n",
    "import matplotlib.pyplot as plt\n",
    "%matplotlib inline\n",
    "import seaborn as sns"
   ]
  },
  {
   "cell_type": "code",
   "execution_count": 3,
   "metadata": {},
   "outputs": [],
   "source": [
    "bcancer = pd.read_csv('./data.csv')"
   ]
  },
  {
   "cell_type": "code",
   "execution_count": 4,
   "metadata": {},
   "outputs": [
    {
     "data": {
      "text/html": [
       "<div>\n",
       "<style scoped>\n",
       "    .dataframe tbody tr th:only-of-type {\n",
       "        vertical-align: middle;\n",
       "    }\n",
       "\n",
       "    .dataframe tbody tr th {\n",
       "        vertical-align: top;\n",
       "    }\n",
       "\n",
       "    .dataframe thead th {\n",
       "        text-align: right;\n",
       "    }\n",
       "</style>\n",
       "<table border=\"1\" class=\"dataframe\">\n",
       "  <thead>\n",
       "    <tr style=\"text-align: right;\">\n",
       "      <th></th>\n",
       "      <th>id</th>\n",
       "      <th>diagnosis</th>\n",
       "      <th>radius_mean</th>\n",
       "      <th>texture_mean</th>\n",
       "      <th>perimeter_mean</th>\n",
       "      <th>area_mean</th>\n",
       "      <th>smoothness_mean</th>\n",
       "      <th>compactness_mean</th>\n",
       "      <th>concavity_mean</th>\n",
       "      <th>concave points_mean</th>\n",
       "      <th>...</th>\n",
       "      <th>radius_worst</th>\n",
       "      <th>texture_worst</th>\n",
       "      <th>perimeter_worst</th>\n",
       "      <th>area_worst</th>\n",
       "      <th>smoothness_worst</th>\n",
       "      <th>compactness_worst</th>\n",
       "      <th>concavity_worst</th>\n",
       "      <th>concave points_worst</th>\n",
       "      <th>symmetry_worst</th>\n",
       "      <th>fractal_dimension_worst</th>\n",
       "    </tr>\n",
       "  </thead>\n",
       "  <tbody>\n",
       "    <tr>\n",
       "      <th>0</th>\n",
       "      <td>842302</td>\n",
       "      <td>M</td>\n",
       "      <td>17.99</td>\n",
       "      <td>10.38</td>\n",
       "      <td>122.80</td>\n",
       "      <td>1001.0</td>\n",
       "      <td>0.11840</td>\n",
       "      <td>0.27760</td>\n",
       "      <td>0.3001</td>\n",
       "      <td>0.14710</td>\n",
       "      <td>...</td>\n",
       "      <td>25.38</td>\n",
       "      <td>17.33</td>\n",
       "      <td>184.60</td>\n",
       "      <td>2019.0</td>\n",
       "      <td>0.1622</td>\n",
       "      <td>0.6656</td>\n",
       "      <td>0.7119</td>\n",
       "      <td>0.2654</td>\n",
       "      <td>0.4601</td>\n",
       "      <td>0.11890</td>\n",
       "    </tr>\n",
       "    <tr>\n",
       "      <th>1</th>\n",
       "      <td>842517</td>\n",
       "      <td>M</td>\n",
       "      <td>20.57</td>\n",
       "      <td>17.77</td>\n",
       "      <td>132.90</td>\n",
       "      <td>1326.0</td>\n",
       "      <td>0.08474</td>\n",
       "      <td>0.07864</td>\n",
       "      <td>0.0869</td>\n",
       "      <td>0.07017</td>\n",
       "      <td>...</td>\n",
       "      <td>24.99</td>\n",
       "      <td>23.41</td>\n",
       "      <td>158.80</td>\n",
       "      <td>1956.0</td>\n",
       "      <td>0.1238</td>\n",
       "      <td>0.1866</td>\n",
       "      <td>0.2416</td>\n",
       "      <td>0.1860</td>\n",
       "      <td>0.2750</td>\n",
       "      <td>0.08902</td>\n",
       "    </tr>\n",
       "    <tr>\n",
       "      <th>2</th>\n",
       "      <td>84300903</td>\n",
       "      <td>M</td>\n",
       "      <td>19.69</td>\n",
       "      <td>21.25</td>\n",
       "      <td>130.00</td>\n",
       "      <td>1203.0</td>\n",
       "      <td>0.10960</td>\n",
       "      <td>0.15990</td>\n",
       "      <td>0.1974</td>\n",
       "      <td>0.12790</td>\n",
       "      <td>...</td>\n",
       "      <td>23.57</td>\n",
       "      <td>25.53</td>\n",
       "      <td>152.50</td>\n",
       "      <td>1709.0</td>\n",
       "      <td>0.1444</td>\n",
       "      <td>0.4245</td>\n",
       "      <td>0.4504</td>\n",
       "      <td>0.2430</td>\n",
       "      <td>0.3613</td>\n",
       "      <td>0.08758</td>\n",
       "    </tr>\n",
       "    <tr>\n",
       "      <th>3</th>\n",
       "      <td>84348301</td>\n",
       "      <td>M</td>\n",
       "      <td>11.42</td>\n",
       "      <td>20.38</td>\n",
       "      <td>77.58</td>\n",
       "      <td>386.1</td>\n",
       "      <td>0.14250</td>\n",
       "      <td>0.28390</td>\n",
       "      <td>0.2414</td>\n",
       "      <td>0.10520</td>\n",
       "      <td>...</td>\n",
       "      <td>14.91</td>\n",
       "      <td>26.50</td>\n",
       "      <td>98.87</td>\n",
       "      <td>567.7</td>\n",
       "      <td>0.2098</td>\n",
       "      <td>0.8663</td>\n",
       "      <td>0.6869</td>\n",
       "      <td>0.2575</td>\n",
       "      <td>0.6638</td>\n",
       "      <td>0.17300</td>\n",
       "    </tr>\n",
       "    <tr>\n",
       "      <th>4</th>\n",
       "      <td>84358402</td>\n",
       "      <td>M</td>\n",
       "      <td>20.29</td>\n",
       "      <td>14.34</td>\n",
       "      <td>135.10</td>\n",
       "      <td>1297.0</td>\n",
       "      <td>0.10030</td>\n",
       "      <td>0.13280</td>\n",
       "      <td>0.1980</td>\n",
       "      <td>0.10430</td>\n",
       "      <td>...</td>\n",
       "      <td>22.54</td>\n",
       "      <td>16.67</td>\n",
       "      <td>152.20</td>\n",
       "      <td>1575.0</td>\n",
       "      <td>0.1374</td>\n",
       "      <td>0.2050</td>\n",
       "      <td>0.4000</td>\n",
       "      <td>0.1625</td>\n",
       "      <td>0.2364</td>\n",
       "      <td>0.07678</td>\n",
       "    </tr>\n",
       "  </tbody>\n",
       "</table>\n",
       "<p>5 rows × 32 columns</p>\n",
       "</div>"
      ],
      "text/plain": [
       "         id diagnosis  radius_mean  texture_mean  perimeter_mean  area_mean  \\\n",
       "0    842302         M        17.99         10.38          122.80     1001.0   \n",
       "1    842517         M        20.57         17.77          132.90     1326.0   \n",
       "2  84300903         M        19.69         21.25          130.00     1203.0   \n",
       "3  84348301         M        11.42         20.38           77.58      386.1   \n",
       "4  84358402         M        20.29         14.34          135.10     1297.0   \n",
       "\n",
       "   smoothness_mean  compactness_mean  concavity_mean  concave points_mean  \\\n",
       "0          0.11840           0.27760          0.3001              0.14710   \n",
       "1          0.08474           0.07864          0.0869              0.07017   \n",
       "2          0.10960           0.15990          0.1974              0.12790   \n",
       "3          0.14250           0.28390          0.2414              0.10520   \n",
       "4          0.10030           0.13280          0.1980              0.10430   \n",
       "\n",
       "            ...             radius_worst  texture_worst  perimeter_worst  \\\n",
       "0           ...                    25.38          17.33           184.60   \n",
       "1           ...                    24.99          23.41           158.80   \n",
       "2           ...                    23.57          25.53           152.50   \n",
       "3           ...                    14.91          26.50            98.87   \n",
       "4           ...                    22.54          16.67           152.20   \n",
       "\n",
       "   area_worst  smoothness_worst  compactness_worst  concavity_worst  \\\n",
       "0      2019.0            0.1622             0.6656           0.7119   \n",
       "1      1956.0            0.1238             0.1866           0.2416   \n",
       "2      1709.0            0.1444             0.4245           0.4504   \n",
       "3       567.7            0.2098             0.8663           0.6869   \n",
       "4      1575.0            0.1374             0.2050           0.4000   \n",
       "\n",
       "   concave points_worst  symmetry_worst  fractal_dimension_worst  \n",
       "0                0.2654          0.4601                  0.11890  \n",
       "1                0.1860          0.2750                  0.08902  \n",
       "2                0.2430          0.3613                  0.08758  \n",
       "3                0.2575          0.6638                  0.17300  \n",
       "4                0.1625          0.2364                  0.07678  \n",
       "\n",
       "[5 rows x 32 columns]"
      ]
     },
     "execution_count": 4,
     "metadata": {},
     "output_type": "execute_result"
    }
   ],
   "source": [
    "bcancer.head()"
   ]
  },
  {
   "cell_type": "code",
   "execution_count": 5,
   "metadata": {},
   "outputs": [
    {
     "data": {
      "text/plain": [
       "(569, 32)"
      ]
     },
     "execution_count": 5,
     "metadata": {},
     "output_type": "execute_result"
    }
   ],
   "source": [
    "bcancer.shape"
   ]
  },
  {
   "cell_type": "code",
   "execution_count": 6,
   "metadata": {},
   "outputs": [],
   "source": [
    "bcancer = bcancer.drop(['id'],axis=1)"
   ]
  },
  {
   "cell_type": "code",
   "execution_count": 7,
   "metadata": {},
   "outputs": [],
   "source": [
    "bcancer['diagnosis'].replace(['M','B'],['Malignant','Benign'],inplace=True)"
   ]
  },
  {
   "cell_type": "code",
   "execution_count": 8,
   "metadata": {},
   "outputs": [
    {
     "name": "stdout",
     "output_type": "stream",
     "text": [
      "<class 'pandas.core.frame.DataFrame'>\n",
      "RangeIndex: 569 entries, 0 to 568\n",
      "Data columns (total 31 columns):\n",
      "diagnosis                  569 non-null object\n",
      "radius_mean                569 non-null float64\n",
      "texture_mean               569 non-null float64\n",
      "perimeter_mean             569 non-null float64\n",
      "area_mean                  569 non-null float64\n",
      "smoothness_mean            569 non-null float64\n",
      "compactness_mean           569 non-null float64\n",
      "concavity_mean             569 non-null float64\n",
      "concave points_mean        569 non-null float64\n",
      "symmetry_mean              569 non-null float64\n",
      "fractal_dimension_mean     569 non-null float64\n",
      "radius_se                  569 non-null float64\n",
      "texture_se                 569 non-null float64\n",
      "perimeter_se               569 non-null float64\n",
      "area_se                    569 non-null float64\n",
      "smoothness_se              569 non-null float64\n",
      "compactness_se             569 non-null float64\n",
      "concavity_se               569 non-null float64\n",
      "concave points_se          569 non-null float64\n",
      "symmetry_se                569 non-null float64\n",
      "fractal_dimension_se       569 non-null float64\n",
      "radius_worst               569 non-null float64\n",
      "texture_worst              569 non-null float64\n",
      "perimeter_worst            569 non-null float64\n",
      "area_worst                 569 non-null float64\n",
      "smoothness_worst           569 non-null float64\n",
      "compactness_worst          569 non-null float64\n",
      "concavity_worst            569 non-null float64\n",
      "concave points_worst       569 non-null float64\n",
      "symmetry_worst             569 non-null float64\n",
      "fractal_dimension_worst    569 non-null float64\n",
      "dtypes: float64(30), object(1)\n",
      "memory usage: 137.9+ KB\n"
     ]
    }
   ],
   "source": [
    "bcancer.info()"
   ]
  },
  {
   "cell_type": "code",
   "execution_count": 9,
   "metadata": {},
   "outputs": [],
   "source": [
    "X = bcancer.iloc[:,1:]\n",
    "y = bcancer.iloc[:,0]"
   ]
  },
  {
   "cell_type": "code",
   "execution_count": 10,
   "metadata": {},
   "outputs": [
    {
     "name": "stderr",
     "output_type": "stream",
     "text": [
      "C:\\Users\\avinash\\Anaconda3\\lib\\site-packages\\sklearn\\cross_validation.py:41: DeprecationWarning: This module was deprecated in version 0.18 in favor of the model_selection module into which all the refactored classes and functions are moved. Also note that the interface of the new CV iterators are different from that of this module. This module will be removed in 0.20.\n",
      "  \"This module will be removed in 0.20.\", DeprecationWarning)\n"
     ]
    }
   ],
   "source": [
    "from sklearn import cross_validation\n",
    "from sklearn.cross_validation import train_test_split\n",
    "X_train, X_test, y_train, y_test = train_test_split(X,y,test_size=0.2)"
   ]
  },
  {
   "cell_type": "markdown",
   "metadata": {},
   "source": [
    "# Random Forest"
   ]
  },
  {
   "cell_type": "code",
   "execution_count": 11,
   "metadata": {},
   "outputs": [
    {
     "name": "stderr",
     "output_type": "stream",
     "text": [
      "C:\\Users\\avinash\\Anaconda3\\lib\\site-packages\\sklearn\\ensemble\\weight_boosting.py:29: DeprecationWarning: numpy.core.umath_tests is an internal NumPy module and should not be imported. It will be removed in a future NumPy release.\n",
      "  from numpy.core.umath_tests import inner1d\n"
     ]
    }
   ],
   "source": [
    "from sklearn.ensemble import RandomForestClassifier\n",
    "rmf = RandomForestClassifier(max_depth=3, random_state=0)\n",
    "rmf_classifier = rmf.fit(X_train,y_train)"
   ]
  },
  {
   "cell_type": "code",
   "execution_count": 13,
   "metadata": {},
   "outputs": [
    {
     "data": {
      "text/plain": [
       "array(['Malignant', 'Benign', 'Benign', 'Benign', 'Benign', 'Benign',\n",
       "       'Benign', 'Benign', 'Benign', 'Benign', 'Malignant', 'Benign',\n",
       "       'Malignant', 'Benign', 'Malignant', 'Benign', 'Benign', 'Benign',\n",
       "       'Benign', 'Benign', 'Benign', 'Malignant', 'Benign', 'Malignant',\n",
       "       'Benign', 'Malignant', 'Benign', 'Benign', 'Benign', 'Malignant',\n",
       "       'Benign', 'Benign', 'Benign', 'Benign', 'Benign', 'Benign',\n",
       "       'Benign', 'Malignant', 'Malignant', 'Malignant', 'Malignant',\n",
       "       'Benign', 'Malignant', 'Benign', 'Benign', 'Malignant',\n",
       "       'Malignant', 'Malignant', 'Benign', 'Malignant', 'Benign',\n",
       "       'Malignant', 'Malignant', 'Benign', 'Malignant', 'Benign',\n",
       "       'Benign', 'Benign', 'Benign', 'Benign', 'Malignant', 'Benign',\n",
       "       'Benign', 'Benign', 'Benign', 'Benign', 'Benign', 'Malignant',\n",
       "       'Benign', 'Benign', 'Benign', 'Benign', 'Benign', 'Benign',\n",
       "       'Benign', 'Malignant', 'Benign', 'Benign', 'Benign', 'Benign',\n",
       "       'Malignant', 'Benign', 'Benign', 'Benign', 'Benign', 'Benign',\n",
       "       'Benign', 'Benign', 'Benign', 'Malignant', 'Benign', 'Malignant',\n",
       "       'Benign', 'Benign', 'Malignant', 'Benign', 'Malignant', 'Benign',\n",
       "       'Benign', 'Benign', 'Benign', 'Benign', 'Malignant', 'Malignant',\n",
       "       'Malignant', 'Benign', 'Benign', 'Benign', 'Benign', 'Benign',\n",
       "       'Malignant', 'Benign', 'Malignant', 'Benign'], dtype=object)"
      ]
     },
     "execution_count": 13,
     "metadata": {},
     "output_type": "execute_result"
    }
   ],
   "source": [
    "rf_y_test = rmf_classifier.predict(X_test)\n",
    "rf_y_test"
   ]
  },
  {
   "cell_type": "code",
   "execution_count": 14,
   "metadata": {},
   "outputs": [
    {
     "data": {
      "text/plain": [
       "array([[74,  3],\n",
       "       [ 7, 30]], dtype=int64)"
      ]
     },
     "execution_count": 14,
     "metadata": {},
     "output_type": "execute_result"
    }
   ],
   "source": [
    "from sklearn.metrics import confusion_matrix\n",
    "rf_cm_test = confusion_matrix(y_test,rf_y_test)\n",
    "rf_cm_test"
   ]
  },
  {
   "cell_type": "code",
   "execution_count": 15,
   "metadata": {},
   "outputs": [
    {
     "data": {
      "text/plain": [
       "array(['Malignant', 'Malignant', 'Benign', 'Malignant', 'Malignant',\n",
       "       'Malignant', 'Malignant', 'Malignant', 'Malignant', 'Malignant',\n",
       "       'Benign', 'Malignant', 'Benign', 'Benign', 'Benign', 'Benign',\n",
       "       'Benign', 'Benign', 'Benign', 'Benign', 'Malignant', 'Malignant',\n",
       "       'Benign', 'Benign', 'Benign', 'Benign', 'Malignant', 'Benign',\n",
       "       'Malignant', 'Malignant', 'Malignant', 'Malignant', 'Benign',\n",
       "       'Benign', 'Malignant', 'Malignant', 'Malignant', 'Benign',\n",
       "       'Benign', 'Malignant', 'Benign', 'Benign', 'Malignant',\n",
       "       'Malignant', 'Malignant', 'Malignant', 'Benign', 'Malignant',\n",
       "       'Benign', 'Benign', 'Malignant', 'Malignant', 'Benign', 'Benign',\n",
       "       'Malignant', 'Benign', 'Benign', 'Benign', 'Malignant', 'Benign',\n",
       "       'Benign', 'Benign', 'Benign', 'Benign', 'Benign', 'Benign',\n",
       "       'Benign', 'Benign', 'Benign', 'Benign', 'Malignant', 'Benign',\n",
       "       'Malignant', 'Malignant', 'Benign', 'Malignant', 'Benign',\n",
       "       'Malignant', 'Benign', 'Benign', 'Malignant', 'Malignant',\n",
       "       'Benign', 'Malignant', 'Benign', 'Benign', 'Malignant', 'Benign',\n",
       "       'Benign', 'Benign', 'Benign', 'Benign', 'Benign', 'Benign',\n",
       "       'Benign', 'Malignant', 'Malignant', 'Benign', 'Benign',\n",
       "       'Malignant', 'Benign', 'Malignant', 'Malignant', 'Benign',\n",
       "       'Malignant', 'Benign', 'Malignant', 'Malignant', 'Malignant',\n",
       "       'Benign', 'Benign', 'Benign', 'Benign', 'Benign', 'Malignant',\n",
       "       'Benign', 'Malignant', 'Benign', 'Malignant', 'Benign', 'Benign',\n",
       "       'Malignant', 'Malignant', 'Benign', 'Benign', 'Benign',\n",
       "       'Malignant', 'Benign', 'Malignant', 'Malignant', 'Benign',\n",
       "       'Benign', 'Benign', 'Malignant', 'Benign', 'Benign', 'Benign',\n",
       "       'Malignant', 'Benign', 'Benign', 'Benign', 'Benign', 'Benign',\n",
       "       'Benign', 'Benign', 'Malignant', 'Benign', 'Malignant',\n",
       "       'Malignant', 'Benign', 'Benign', 'Benign', 'Malignant',\n",
       "       'Malignant', 'Benign', 'Malignant', 'Malignant', 'Benign',\n",
       "       'Benign', 'Benign', 'Benign', 'Benign', 'Benign', 'Benign',\n",
       "       'Malignant', 'Malignant', 'Malignant', 'Malignant', 'Benign',\n",
       "       'Benign', 'Benign', 'Benign', 'Malignant', 'Benign', 'Benign',\n",
       "       'Malignant', 'Benign', 'Benign', 'Malignant', 'Benign', 'Benign',\n",
       "       'Benign', 'Benign', 'Malignant', 'Malignant', 'Benign', 'Benign',\n",
       "       'Benign', 'Benign', 'Benign', 'Benign', 'Benign', 'Benign',\n",
       "       'Malignant', 'Malignant', 'Malignant', 'Malignant', 'Malignant',\n",
       "       'Benign', 'Benign', 'Malignant', 'Benign', 'Benign', 'Benign',\n",
       "       'Benign', 'Benign', 'Benign', 'Malignant', 'Malignant', 'Benign',\n",
       "       'Benign', 'Benign', 'Benign', 'Benign', 'Malignant', 'Malignant',\n",
       "       'Benign', 'Benign', 'Malignant', 'Benign', 'Malignant', 'Benign',\n",
       "       'Benign', 'Malignant', 'Benign', 'Benign', 'Benign', 'Benign',\n",
       "       'Malignant', 'Malignant', 'Malignant', 'Benign', 'Benign',\n",
       "       'Malignant', 'Malignant', 'Benign', 'Malignant', 'Benign',\n",
       "       'Benign', 'Malignant', 'Malignant', 'Benign', 'Benign', 'Benign',\n",
       "       'Malignant', 'Benign', 'Benign', 'Malignant', 'Benign', 'Benign',\n",
       "       'Malignant', 'Malignant', 'Malignant', 'Benign', 'Benign',\n",
       "       'Malignant', 'Malignant', 'Benign', 'Benign', 'Benign', 'Benign',\n",
       "       'Malignant', 'Malignant', 'Malignant', 'Benign', 'Benign',\n",
       "       'Malignant', 'Benign', 'Malignant', 'Malignant', 'Benign',\n",
       "       'Benign', 'Malignant', 'Benign', 'Malignant', 'Benign', 'Benign',\n",
       "       'Benign', 'Benign', 'Benign', 'Benign', 'Benign', 'Benign',\n",
       "       'Benign', 'Malignant', 'Benign', 'Benign', 'Benign', 'Malignant',\n",
       "       'Malignant', 'Malignant', 'Malignant', 'Benign', 'Benign',\n",
       "       'Benign', 'Benign', 'Malignant', 'Benign', 'Benign', 'Benign',\n",
       "       'Malignant', 'Benign', 'Benign', 'Malignant', 'Benign', 'Benign',\n",
       "       'Malignant', 'Malignant', 'Malignant', 'Benign', 'Benign',\n",
       "       'Benign', 'Benign', 'Benign', 'Benign', 'Malignant', 'Benign',\n",
       "       'Benign', 'Benign', 'Benign', 'Benign', 'Malignant', 'Malignant',\n",
       "       'Malignant', 'Malignant', 'Benign', 'Benign', 'Benign', 'Benign',\n",
       "       'Benign', 'Benign', 'Benign', 'Benign', 'Benign', 'Benign',\n",
       "       'Benign', 'Malignant', 'Benign', 'Malignant', 'Malignant',\n",
       "       'Benign', 'Malignant', 'Benign', 'Benign', 'Benign', 'Benign',\n",
       "       'Benign', 'Malignant', 'Malignant', 'Malignant', 'Benign',\n",
       "       'Malignant', 'Benign', 'Benign', 'Benign', 'Benign', 'Benign',\n",
       "       'Malignant', 'Benign', 'Malignant', 'Benign', 'Malignant',\n",
       "       'Malignant', 'Benign', 'Benign', 'Malignant', 'Benign', 'Benign',\n",
       "       'Benign', 'Malignant', 'Benign', 'Malignant', 'Benign', 'Benign',\n",
       "       'Benign', 'Benign', 'Malignant', 'Benign', 'Benign', 'Benign',\n",
       "       'Benign', 'Malignant', 'Benign', 'Malignant', 'Benign',\n",
       "       'Malignant', 'Benign', 'Malignant', 'Benign', 'Malignant',\n",
       "       'Malignant', 'Benign', 'Benign', 'Benign', 'Benign', 'Malignant',\n",
       "       'Malignant', 'Malignant', 'Benign', 'Malignant', 'Benign',\n",
       "       'Malignant', 'Malignant', 'Malignant', 'Malignant', 'Benign',\n",
       "       'Benign', 'Benign', 'Malignant', 'Malignant', 'Malignant',\n",
       "       'Benign', 'Benign', 'Benign', 'Benign', 'Benign', 'Benign',\n",
       "       'Benign', 'Malignant', 'Malignant', 'Benign', 'Malignant',\n",
       "       'Benign', 'Malignant', 'Benign', 'Benign', 'Malignant', 'Benign',\n",
       "       'Malignant', 'Malignant', 'Benign', 'Benign', 'Malignant',\n",
       "       'Benign', 'Benign', 'Benign', 'Malignant', 'Benign', 'Benign',\n",
       "       'Benign', 'Benign', 'Malignant', 'Malignant', 'Benign',\n",
       "       'Malignant', 'Benign', 'Benign', 'Benign', 'Benign', 'Malignant',\n",
       "       'Malignant', 'Benign', 'Benign', 'Benign', 'Benign'], dtype=object)"
      ]
     },
     "execution_count": 15,
     "metadata": {},
     "output_type": "execute_result"
    }
   ],
   "source": [
    "rf_y_train = rmf_classifier.predict(X_train)\n",
    "rf_y_train"
   ]
  },
  {
   "cell_type": "code",
   "execution_count": 16,
   "metadata": {},
   "outputs": [
    {
     "data": {
      "text/plain": [
       "array([[275,   5],\n",
       "       [  7, 168]], dtype=int64)"
      ]
     },
     "execution_count": 16,
     "metadata": {},
     "output_type": "execute_result"
    }
   ],
   "source": [
    "rf_cm_train = confusion_matrix(y_train,rf_y_train)\n",
    "rf_cm_train"
   ]
  },
  {
   "cell_type": "code",
   "execution_count": 17,
   "metadata": {},
   "outputs": [
    {
     "data": {
      "text/plain": [
       "0.9122807017543859"
      ]
     },
     "execution_count": 17,
     "metadata": {},
     "output_type": "execute_result"
    }
   ],
   "source": [
    "from sklearn.metrics import accuracy_score\n",
    "rf_acc_test = accuracy_score(y_test, rf_y_test)\n",
    "rf_acc_test"
   ]
  },
  {
   "cell_type": "code",
   "execution_count": 18,
   "metadata": {},
   "outputs": [
    {
     "data": {
      "text/plain": [
       "0.9736263736263736"
      ]
     },
     "execution_count": 18,
     "metadata": {},
     "output_type": "execute_result"
    }
   ],
   "source": [
    "rf_acc_train = accuracy_score(y_train, rf_y_train)\n",
    "rf_acc_train"
   ]
  },
  {
   "cell_type": "code",
   "execution_count": 19,
   "metadata": {},
   "outputs": [
    {
     "name": "stdout",
     "output_type": "stream",
     "text": [
      "0.9121231811290289\n",
      "0.9736084437843139\n"
     ]
    }
   ],
   "source": [
    "from sklearn.metrics import precision_score\n",
    "rf_precision_test = precision_score(y_test,rf_y_test,average=\"weighted\")\n",
    "print(rf_precision_test)\n",
    "rf_precision_train = precision_score(y_train,rf_y_train,average=\"weighted\")\n",
    "print(rf_precision_train)"
   ]
  },
  {
   "cell_type": "code",
   "execution_count": 20,
   "metadata": {},
   "outputs": [
    {
     "name": "stdout",
     "output_type": "stream",
     "text": [
      "0.9122807017543859\n",
      "0.9736263736263736\n"
     ]
    }
   ],
   "source": [
    "from sklearn.metrics import recall_score\n",
    "rf_recall_test = recall_score(y_test,rf_y_test,average=\"weighted\")\n",
    "print(rf_recall_test)\n",
    "rf_recall_train = recall_score(y_train,rf_y_train,average=\"weighted\")\n",
    "print(rf_recall_train)"
   ]
  },
  {
   "cell_type": "code",
   "execution_count": 21,
   "metadata": {},
   "outputs": [],
   "source": [
    "from sklearn import model_selection\n",
    "from sklearn.ensemble import AdaBoostClassifier\n",
    "seed = 7\n",
    "num_trees = 10\n",
    "kfold = model_selection.KFold(n_splits=10,random_state=seed)"
   ]
  },
  {
   "cell_type": "code",
   "execution_count": 22,
   "metadata": {},
   "outputs": [],
   "source": [
    "result = model_selection.cross_val_score(rmf_classifier,X_train,y_train,cv = kfold)"
   ]
  },
  {
   "cell_type": "code",
   "execution_count": 21,
   "metadata": {},
   "outputs": [
    {
     "data": {
      "text/plain": [
       "array([0.91304348, 0.86956522, 0.95652174, 0.95652174, 0.97826087,\n",
       "       0.93333333, 0.95555556, 0.93333333, 0.91111111, 0.95555556])"
      ]
     },
     "execution_count": 21,
     "metadata": {},
     "output_type": "execute_result"
    }
   ],
   "source": [
    "result"
   ]
  },
  {
   "cell_type": "code",
   "execution_count": 22,
   "metadata": {},
   "outputs": [
    {
     "data": {
      "text/plain": [
       "0.936280193236715"
      ]
     },
     "execution_count": 22,
     "metadata": {},
     "output_type": "execute_result"
    }
   ],
   "source": [
    "result.mean()"
   ]
  },
  {
   "cell_type": "markdown",
   "metadata": {},
   "source": [
    "# ADA BOOST - ADAPTIVE BOOSTING CLASSIFIER"
   ]
  },
  {
   "cell_type": "code",
   "execution_count": 23,
   "metadata": {},
   "outputs": [],
   "source": [
    "from sklearn.ensemble import AdaBoostClassifier"
   ]
  },
  {
   "cell_type": "code",
   "execution_count": 24,
   "metadata": {},
   "outputs": [],
   "source": [
    "num_trees = 30\n",
    "model = AdaBoostClassifier(n_estimators=num_trees, random_state=seed)"
   ]
  },
  {
   "cell_type": "code",
   "execution_count": 25,
   "metadata": {},
   "outputs": [
    {
     "data": {
      "text/plain": [
       "AdaBoostClassifier(algorithm='SAMME.R', base_estimator=None,\n",
       "          learning_rate=1.0, n_estimators=30, random_state=7)"
      ]
     },
     "execution_count": 25,
     "metadata": {},
     "output_type": "execute_result"
    }
   ],
   "source": [
    "ada = model.fit(X_train,y_train)\n",
    "ada"
   ]
  },
  {
   "cell_type": "code",
   "execution_count": 26,
   "metadata": {},
   "outputs": [
    {
     "data": {
      "text/plain": [
       "array(['Benign', 'Malignant', 'Benign', 'Benign', 'Benign', 'Benign',\n",
       "       'Benign', 'Benign', 'Malignant', 'Benign', 'Benign', 'Benign',\n",
       "       'Malignant', 'Benign', 'Malignant', 'Benign', 'Benign',\n",
       "       'Malignant', 'Benign', 'Benign', 'Malignant', 'Benign', 'Benign',\n",
       "       'Benign', 'Malignant', 'Benign', 'Benign', 'Benign', 'Benign',\n",
       "       'Malignant', 'Benign', 'Malignant', 'Malignant', 'Benign',\n",
       "       'Benign', 'Benign', 'Benign', 'Benign', 'Benign', 'Benign',\n",
       "       'Benign', 'Benign', 'Malignant', 'Benign', 'Benign', 'Malignant',\n",
       "       'Benign', 'Benign', 'Malignant', 'Benign', 'Malignant', 'Benign',\n",
       "       'Benign', 'Malignant', 'Benign', 'Malignant', 'Benign',\n",
       "       'Malignant', 'Benign', 'Malignant', 'Benign', 'Benign', 'Benign',\n",
       "       'Benign', 'Benign', 'Benign', 'Malignant', 'Benign', 'Malignant',\n",
       "       'Malignant', 'Benign', 'Benign', 'Malignant', 'Malignant',\n",
       "       'Malignant', 'Benign', 'Benign', 'Benign', 'Malignant',\n",
       "       'Malignant', 'Malignant', 'Benign', 'Malignant', 'Benign',\n",
       "       'Benign', 'Benign', 'Benign', 'Benign', 'Malignant', 'Benign',\n",
       "       'Benign', 'Malignant', 'Benign', 'Benign', 'Benign', 'Benign',\n",
       "       'Benign', 'Benign', 'Benign', 'Benign', 'Benign', 'Benign',\n",
       "       'Benign', 'Malignant', 'Benign', 'Benign', 'Benign', 'Benign',\n",
       "       'Benign', 'Benign', 'Benign', 'Benign', 'Benign', 'Benign'],\n",
       "      dtype=object)"
      ]
     },
     "execution_count": 26,
     "metadata": {},
     "output_type": "execute_result"
    }
   ],
   "source": [
    "y_pred = ada.predict(X_test)\n",
    "y_pred"
   ]
  },
  {
   "cell_type": "code",
   "execution_count": 27,
   "metadata": {},
   "outputs": [],
   "source": [
    "ada_train = model.predict(X_train)"
   ]
  },
  {
   "cell_type": "code",
   "execution_count": 28,
   "metadata": {},
   "outputs": [
    {
     "data": {
      "text/plain": [
       "array([[274,   0],\n",
       "       [  0, 181]], dtype=int64)"
      ]
     },
     "execution_count": 28,
     "metadata": {},
     "output_type": "execute_result"
    }
   ],
   "source": [
    "from sklearn.metrics import confusion_matrix\n",
    "ada_cm_train = confusion_matrix(y_train,ada_train)\n",
    "ada_cm_train"
   ]
  },
  {
   "cell_type": "code",
   "execution_count": 29,
   "metadata": {},
   "outputs": [
    {
     "data": {
      "text/plain": [
       "1.0"
      ]
     },
     "execution_count": 29,
     "metadata": {},
     "output_type": "execute_result"
    }
   ],
   "source": [
    "from sklearn.metrics import accuracy_score\n",
    "ada_acc_test = accuracy_score(y_test,y_pred)\n",
    "ada_acc_test"
   ]
  },
  {
   "cell_type": "code",
   "execution_count": 30,
   "metadata": {},
   "outputs": [
    {
     "data": {
      "text/plain": [
       "1.0"
      ]
     },
     "execution_count": 30,
     "metadata": {},
     "output_type": "execute_result"
    }
   ],
   "source": [
    "from sklearn.metrics import accuracy_score\n",
    "ada_acc_train = accuracy_score(y_train,ada_train)\n",
    "ada_acc_train"
   ]
  },
  {
   "cell_type": "code",
   "execution_count": 58,
   "metadata": {},
   "outputs": [],
   "source": [
    "from sklearn import model_selection\n",
    "kfold = model_selection.KFold(n_splits=10,random_state=seed)\n",
    "results = model_selection.cross_val_score(model,X_train,y_train,cv=kfold,scoring='accuracy')"
   ]
  },
  {
   "cell_type": "code",
   "execution_count": 59,
   "metadata": {},
   "outputs": [
    {
     "data": {
      "text/plain": [
       "sklearn.model_selection._split.KFold"
      ]
     },
     "execution_count": 59,
     "metadata": {},
     "output_type": "execute_result"
    }
   ],
   "source": [
    "type(kfold)"
   ]
  },
  {
   "cell_type": "code",
   "execution_count": 60,
   "metadata": {},
   "outputs": [
    {
     "data": {
      "text/plain": [
       "0.9626570048309178"
      ]
     },
     "execution_count": 60,
     "metadata": {},
     "output_type": "execute_result"
    }
   ],
   "source": [
    "results.mean()"
   ]
  },
  {
   "cell_type": "markdown",
   "metadata": {},
   "source": [
    "##########################"
   ]
  },
  {
   "cell_type": "code",
   "execution_count": 44,
   "metadata": {},
   "outputs": [],
   "source": [
    "from sklearn.neighbors import KNeighborsClassifier\n",
    "knn = KNeighborsClassifier(n_neighbors=7)"
   ]
  },
  {
   "cell_type": "code",
   "execution_count": 46,
   "metadata": {},
   "outputs": [],
   "source": [
    "model_knn = knn.fit(X_train,y_train)"
   ]
  },
  {
   "cell_type": "code",
   "execution_count": 47,
   "metadata": {},
   "outputs": [
    {
     "data": {
      "text/plain": [
       "0.945054945054945"
      ]
     },
     "execution_count": 47,
     "metadata": {},
     "output_type": "execute_result"
    }
   ],
   "source": [
    "model_knn.score(X_train,y_train)"
   ]
  },
  {
   "cell_type": "code",
   "execution_count": 48,
   "metadata": {},
   "outputs": [
    {
     "data": {
      "text/plain": [
       "0.9298245614035088"
      ]
     },
     "execution_count": 48,
     "metadata": {},
     "output_type": "execute_result"
    }
   ],
   "source": [
    "model_knn.score(X_test,y_test)"
   ]
  },
  {
   "cell_type": "code",
   "execution_count": 54,
   "metadata": {},
   "outputs": [],
   "source": [
    "y_pred = model_knn.predict(X_train)"
   ]
  },
  {
   "cell_type": "code",
   "execution_count": 56,
   "metadata": {},
   "outputs": [
    {
     "data": {
      "text/plain": [
       "0.945054945054945"
      ]
     },
     "execution_count": 56,
     "metadata": {},
     "output_type": "execute_result"
    }
   ],
   "source": [
    "accuracy_score(y_pred,y_train)"
   ]
  },
  {
   "cell_type": "code",
   "execution_count": null,
   "metadata": {},
   "outputs": [],
   "source": []
  }
 ],
 "metadata": {
  "kernelspec": {
   "display_name": "Python 3",
   "language": "python",
   "name": "python3"
  },
  "language_info": {
   "codemirror_mode": {
    "name": "ipython",
    "version": 3
   },
   "file_extension": ".py",
   "mimetype": "text/x-python",
   "name": "python",
   "nbconvert_exporter": "python",
   "pygments_lexer": "ipython3",
   "version": "3.7.3"
  }
 },
 "nbformat": 4,
 "nbformat_minor": 2
}
